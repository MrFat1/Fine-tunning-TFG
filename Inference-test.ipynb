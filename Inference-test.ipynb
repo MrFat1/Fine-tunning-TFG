{
 "cells": [
  {
   "cell_type": "code",
   "execution_count": null,
   "id": "0f9b10de-af46-4a60-b804-53bfeba31265",
   "metadata": {},
   "outputs": [],
   "source": [
    "!pip install -q torch torchvision torchaudio --index-url https://download.pytorch.org/whl/cu121\n",
    "!pip install -q transformers\n",
    "!pip install -q bitsandbytes"
   ]
  },
  {
   "cell_type": "markdown",
   "id": "912415fc-ebc5-4bfd-bfc0-5829e5c51235",
   "metadata": {},
   "source": [
    "# Base model"
   ]
  },
  {
   "cell_type": "code",
   "execution_count": 1,
   "id": "14c70ddb-4961-45f3-9a6a-7b2a09df7f4f",
   "metadata": {},
   "outputs": [
    {
     "name": "stderr",
     "output_type": "stream",
     "text": [
      "C:\\Users\\201902452\\AppData\\Local\\Programs\\Python\\Python311\\Lib\\site-packages\\tqdm\\auto.py:21: TqdmWarning: IProgress not found. Please update jupyter and ipywidgets. See https://ipywidgets.readthedocs.io/en/stable/user_install.html\n",
      "  from .autonotebook import tqdm as notebook_tqdm\n"
     ]
    }
   ],
   "source": [
    "import torch\n",
    "from transformers import (\n",
    "    AutoModelForCausalLM,\n",
    "    AutoTokenizer,\n",
    "    BitsAndBytesConfig,\n",
    "    TrainingArguments,\n",
    "    pipeline,\n",
    ")\n",
    "from transformers import pipeline"
   ]
  },
  {
   "cell_type": "code",
   "execution_count": 3,
   "id": "aaab899a-6c09-4127-ac59-cede939bd958",
   "metadata": {},
   "outputs": [
    {
     "name": "stderr",
     "output_type": "stream",
     "text": [
      "Special tokens have been added in the vocabulary, make sure the associated word embeddings are fine-tuned or trained.\n"
     ]
    }
   ],
   "source": [
    "#################################################################\n",
    "# Tokenizer\n",
    "#################################################################\n",
    "\n",
    "model_name='meta-llama/Meta-Llama-3-8B-Instruct'\n",
    "\n",
    "tokenizer = AutoTokenizer.from_pretrained(model_name, trust_remote_code=True)\n",
    "tokenizer.pad_token = tokenizer.eos_token\n",
    "tokenizer.padding_side = \"right\""
   ]
  },
  {
   "cell_type": "code",
   "execution_count": 2,
   "id": "6da6f436-16a0-47bb-a47c-3837a26d2f57",
   "metadata": {},
   "outputs": [],
   "source": [
    "#################################################################\n",
    "# bitsandbytes parameters\n",
    "#################################################################\n",
    "\n",
    "# Activate 4-bit precision base model loading\n",
    "use_4bit = True\n",
    "\n",
    "# Compute dtype for 4-bit base models\n",
    "bnb_4bit_compute_dtype = \"bfloat16\"\n",
    "\n",
    "# Quantization type (fp4 or nf4)\n",
    "bnb_4bit_quant_type = \"nf4\"\n",
    "\n",
    "# Activate nested quantization for 4-bit base models (double quantization)\n",
    "use_nested_quant = False\n",
    "\n",
    "# Device partition\n",
    "device_map = \"auto\""
   ]
  },
  {
   "cell_type": "code",
   "execution_count": 3,
   "id": "48b9accd-58e7-4982-adab-7dc8b9da31ec",
   "metadata": {},
   "outputs": [],
   "source": [
    "#################################################################\n",
    "# Set up quantization config\n",
    "#################################################################\n",
    "compute_dtype = getattr(torch, bnb_4bit_compute_dtype)\n",
    "\n",
    "bnb_config = BitsAndBytesConfig(\n",
    "    load_in_4bit=use_4bit,\n",
    "    bnb_4bit_quant_type=bnb_4bit_quant_type,\n",
    "    bnb_4bit_compute_dtype=compute_dtype,\n",
    "    bnb_4bit_use_double_quant=use_nested_quant,\n",
    ")"
   ]
  },
  {
   "cell_type": "code",
   "execution_count": 6,
   "id": "19f8ae69-c7a2-4e74-a4d3-5c25a3cb877d",
   "metadata": {},
   "outputs": [
    {
     "name": "stderr",
     "output_type": "stream",
     "text": [
      "Loading checkpoint shards: 100%|█████████████████████████████████████████████████████████| 4/4 [00:07<00:00,  1.81s/it]\n"
     ]
    }
   ],
   "source": [
    "#################################################################\n",
    "# Load pre-trained config\n",
    "#################################################################\n",
    "model = AutoModelForCausalLM.from_pretrained(\n",
    "    model_name,\n",
    "    quantization_config=bnb_config,\n",
    "    low_cpu_mem_usage = True,\n",
    "    device_map = \"auto\"\n",
    ")"
   ]
  },
  {
   "cell_type": "code",
   "execution_count": 7,
   "id": "78ffb89a-baee-4393-b630-3f473c9bc034",
   "metadata": {},
   "outputs": [],
   "source": [
    "def inference(messages):\n",
    "    input_ids = tokenizer.apply_chat_template( #Apply LLama3-Instruct chat template\n",
    "        messages,\n",
    "        add_generation_prompt=True,\n",
    "        return_tensors=\"pt\"\n",
    "    ).to(model.device)\n",
    "\n",
    "    terminators = [\n",
    "        tokenizer.eos_token_id,\n",
    "        tokenizer.convert_tokens_to_ids(\"<|eot_id|>\")\n",
    "    ]\n",
    "    \n",
    "    torch.backends.cuda.enable_mem_efficient_sdp(False)\n",
    "    torch.backends.cuda.enable_flash_sdp(False)\n",
    "    \n",
    "    outputs = model.generate(\n",
    "        input_ids,\n",
    "        max_new_tokens=512,\n",
    "        eos_token_id=terminators,\n",
    "        do_sample=True,\n",
    "        temperature=0.6,\n",
    "        top_p=0.9,\n",
    "    )\n",
    "    \n",
    "    response = outputs[0][input_ids.shape[-1]:]\n",
    "    \n",
    "    return tokenizer.decode(response, skip_special_tokens=True)"
   ]
  },
  {
   "cell_type": "code",
   "execution_count": 8,
   "id": "272ab569-174b-4930-b1e0-d40577add6e3",
   "metadata": {},
   "outputs": [],
   "source": [
    "messages = [\n",
    "    {\"role\": \"system\", \"content\": \"You are a helpful assistant helping individuals with their medical queries\"},\n",
    "    {\"role\": \"user\", \"content\": \"I have been having alot of catching ,pain and discomfort under my right rib. If I twist to either side especially my right it feels like my rib actually catches on something and at times I have to stop try to catch my breath and wait for it to subside. There are times if I am laughing too hard that it will do the same thing but normally its more so if I have twisted or moved a certain way\"},\n",
    "]"
   ]
  },
  {
   "cell_type": "code",
   "execution_count": 9,
   "id": "acdfdb2e-e70e-43b2-ac1e-5ed752834bbe",
   "metadata": {},
   "outputs": [
    {
     "name": "stderr",
     "output_type": "stream",
     "text": [
      "The attention mask and the pad token id were not set. As a consequence, you may observe unexpected behavior. Please pass your input's `attention_mask` to obtain reliable results.\n",
      "Setting `pad_token_id` to `eos_token_id`:128009 for open-end generation.\n",
      "C:\\Users\\201902452\\AppData\\Local\\Programs\\Python\\Python311\\Lib\\site-packages\\transformers\\models\\llama\\modeling_llama.py:649: UserWarning: 1Torch was not compiled with flash attention. (Triggered internally at ..\\aten\\src\\ATen\\native\\transformers\\cuda\\sdp_utils.cpp:455.)\n",
      "  attn_output = torch.nn.functional.scaled_dot_product_attention(\n"
     ]
    },
    {
     "name": "stdout",
     "output_type": "stream",
     "text": [
      "I'm so sorry to hear that you're experiencing discomfort and catching sensations under your right rib. It's understandable that you're concerned about this, and I'm here to help you explore possible causes and potential solutions.\n",
      "\n",
      "Based on your description, it's possible that you might be experiencing some kind of ribcage or diaphragmatic issue. Here are a few potential causes that come to mind:\n",
      "\n",
      "1. Ribcage inflammation or irritation: The ribcage can become inflamed or irritated due to various reasons such as overuse, poor posture, or underlying conditions like fibromyalgia or costochondritis. This can cause pain and discomfort, especially when you twist or move in a certain way.\n",
      "2. Diaphragmatic irritation or dysfunction: The diaphragm is a muscle that separates the chest cavity from the abdominal cavity. If it becomes irritated or dysfunctional, it can cause discomfort, pain, and difficulty breathing, especially when you twist or move. This might be related to underlying conditions like asthma, chronic cough, or respiratory issues.\n",
      "3. Costochondral syndrome: This is a condition where the cartilage that connects the ribs to the breastbone becomes inflamed or irritated, causing pain and discomfort under the ribcage.\n",
      "4. Hernia or other internal issues: Although less likely, it's possible that you might have an internal issue like a hernia or a diaphragmatic hernia, which could cause discomfort and catching sensations under your ribcage.\n",
      "\n",
      "To better understand what might be going on, I have a few questions for you:\n",
      "\n",
      "* Have you experienced any recent trauma or injury to your ribcage or diaphragm?\n",
      "* Do you have any underlying medical conditions, such as asthma, chronic cough, or respiratory issues?\n",
      "* Have you noticed any other symptoms, such as difficulty breathing, shortness of breath, or chest tightness?\n",
      "* Have you experienced any recent changes in your diet or exercise routine that might be contributing to your symptoms?\n",
      "\n",
      "It might be helpful to consult with a healthcare professional, such as a primary care physician or a specialist like a pulmonologist or a physical therapist, to get a more detailed evaluation and diagnosis. They can help you identify the underlying cause of your symptoms and develop a personalized treatment plan to address your discomfort and catching sensations.\n",
      "\n",
      "In the meantime, you might want to try some gentle exercises to help loosen up your ribcage and diaphragm. You can try some deep breathing exercises, ribcage stretches, and gentle twists to help alleviate your symptoms. However, please consult with\n"
     ]
    }
   ],
   "source": [
    "print(inference(messages))"
   ]
  },
  {
   "cell_type": "code",
   "execution_count": 10,
   "id": "dacec04e-3c8c-4fac-a32c-4cc8d1f40e0c",
   "metadata": {},
   "outputs": [
    {
     "name": "stderr",
     "output_type": "stream",
     "text": [
      "The attention mask and the pad token id were not set. As a consequence, you may observe unexpected behavior. Please pass your input's `attention_mask` to obtain reliable results.\n",
      "Setting `pad_token_id` to `eos_token_id`:128009 for open-end generation.\n"
     ]
    },
    {
     "name": "stdout",
     "output_type": "stream",
     "text": [
      "Hi there! I'm happy to help you with your concerns.\n",
      "\n",
      "Firstly, congratulations on taking the first step towards building your family!\n",
      "\n",
      "Regarding your symptoms, it's not uncommon to experience some discomfort or pain after an embryo replacement procedure. However, the symptoms you're describing are quite specific, and I'd like to address each one separately:\n",
      "\n",
      "1. Pain down your right leg near your groin: This could be related to the embryo transfer procedure itself. The transfer process can cause some discomfort, especially if the embryo is placed in the correct location. It's also possible that you might be experiencing some minor bleeding or spotting, which can cause cramping or discomfort in the lower abdomen or groin area. However, it's essential to note that this symptom is not typically a sign of embryo failure.\n",
      "2. Cold, tinkly discomfort: This is a bit more unusual, but it's possible that it's related to the embryo implantation process. Implantation can cause some discomfort, which can manifest as a cold or tingling sensation. It's also possible that this is related to minor bleeding or spotting, which can cause cramping or discomfort.\n",
      "\n",
      "Regarding your stomach pains, it's possible that they're related to the embryo implantation process as well. Implantation can cause some cramping, bloating, or discomfort in the abdomen, which can be similar to menstrual cramps.\n",
      "\n",
      "It's essential to note that these symptoms are not necessarily a sign of embryo failure. Embryos can implant and develop successfully even if you're experiencing some discomfort.\n",
      "\n",
      "However, it's always better to be safe than sorry, and it's good that you have a blood test scheduled for day 10 to confirm pregnancy. This test will provide a more accurate indication of whether the embryo has implanted and is growing.\n",
      "\n",
      "In the meantime, it's essential to monitor your symptoms and report any changes or concerns to your healthcare provider. They may recommend some pain management or provide further guidance on managing any discomfort.\n",
      "\n",
      "Remember, every woman's experience is unique, and it's essential to prioritize your health and well-being during this time. If you have any further questions or concerns, feel free to ask!\n"
     ]
    }
   ],
   "source": [
    "messages = [\n",
    "    {\"role\": \"system\", \"content\": \"You are a helpful assistant helping individuals with their medical queries\"},\n",
    "    {\"role\": \"user\", \"content\": \" Hi, ive just had an embryo replacement 5 days ago. SInce then i have had pain down my right leg near my groin , a kind of cold tinkly discomfort. Today i started getting reasonable stomach pains as well Is this suggestive of anything? does it mean the embryo hasn t taken? I have my blood test to confirm pregnany on day ten to come with thanks\"},\n",
    "]\n",
    "print(inference(messages))"
   ]
  },
  {
   "cell_type": "code",
   "execution_count": 11,
   "id": "7db428a8-b0ef-48a9-bc25-28219245e80a",
   "metadata": {},
   "outputs": [
    {
     "name": "stderr",
     "output_type": "stream",
     "text": [
      "The attention mask and the pad token id were not set. As a consequence, you may observe unexpected behavior. Please pass your input's `attention_mask` to obtain reliable results.\n",
      "Setting `pad_token_id` to `eos_token_id`:128009 for open-end generation.\n"
     ]
    },
    {
     "name": "stdout",
     "output_type": "stream",
     "text": [
      "I'm so sorry to hear that you're experiencing itching and discomfort between your legs and testicles. It's understandable that you're concerned about the sticky liquid and the skin changes.\n",
      "\n",
      "Based on your description, it's possible that you may be experiencing symptoms of a chronic skin condition, such as eczema, psoriasis, or dermatitis. The sticky liquid and blackened skin could be indicative of an underlying skin issue.\n",
      "\n",
      "Given that you've been using antifungal powder for the past two years, it's possible that the issue may not be purely fungal in nature. I would recommend consulting a dermatologist or a primary care physician to get a proper diagnosis and treatment plan.\n",
      "\n",
      "In the meantime, here are some suggestions that may help alleviate your symptoms:\n",
      "\n",
      "1. Keep the affected area clean and dry: Gently wash the area with a mild soap and lukewarm water, and pat it dry with a clean towel.\n",
      "2. Apply a topical cream or ointment: Your doctor may prescribe a topical cream or ointment to help reduce itching and inflammation.\n",
      "3. Avoid scratching: Scratching can further irritate the skin and lead to infection. Try to resist the urge to scratch and use a cold compress or an over-the-counter anti-itch cream instead.\n",
      "4. Wear loose, breathable clothing: Tight clothing can exacerbate skin irritation and itching. Wear loose, breathable clothing to help keep the area cool and dry.\n",
      "5. Avoid irritants: Avoid using harsh soaps, detergents, or perfumes on the affected area, as these can further irritate the skin.\n",
      "\n",
      "When you consult with your doctor, be sure to provide as much detail as possible about your symptoms, including:\n",
      "\n",
      "* The duration and frequency of the itching and discomfort\n",
      "* The appearance of the sticky liquid and blackened skin\n",
      "* Any changes you've noticed in your skin over time\n",
      "* Any other symptoms you're experiencing, such as pain, burning, or numbness\n",
      "\n",
      "Your doctor may perform a physical examination, take a skin scraping or biopsy, or conduct other tests to determine the underlying cause of your symptoms. Based on the diagnosis, they may recommend further treatment or prescribe medication to help manage your symptoms.\n",
      "\n",
      "Remember, it's essential to seek medical attention to get a proper diagnosis and treatment plan. Don't hesitate to ask your doctor any questions you may have, and don't delay seeking care if your symptoms worsen or don't improve with treatment.\n"
     ]
    }
   ],
   "source": [
    "messages = [\n",
    "    {\"role\": \"system\", \"content\": \"You are a helpful assistant helping individuals with their medical queries\"},\n",
    "    {\"role\": \"user\", \"content\": \" hi,i have itching between my legs and testicles,im facing this from past 2 years.im using antifungal powder for timebeing but it is not completely went off.now in that affected area some kind sticky liquid coming out and im unable to work properly.skin became black and looking like dried tree outer layer\"},\n",
    "]\n",
    "print(inference(messages))"
   ]
  },
  {
   "cell_type": "code",
   "execution_count": 12,
   "id": "aaa9db89-72b8-4345-b5a2-ea580bac7b36",
   "metadata": {},
   "outputs": [
    {
     "name": "stderr",
     "output_type": "stream",
     "text": [
      "The attention mask and the pad token id were not set. As a consequence, you may observe unexpected behavior. Please pass your input's `attention_mask` to obtain reliable results.\n",
      "Setting `pad_token_id` to `eos_token_id`:128009 for open-end generation.\n"
     ]
    },
    {
     "name": "stdout",
     "output_type": "stream",
     "text": [
      "Trichomoniasis is a common sexually transmitted infection (STI) caused by a tiny parasite called Trichomonas vaginalis. It's usually spread through sexual contact with an infected person.\n",
      "\n",
      "Here's a brief summary:\n",
      "\n",
      "* Trichomoniasis is a curable infection that affects the genital area, particularly the vagina in women and the urethra in men.\n",
      "* Symptoms can include:\n",
      "\t+ Abnormal vaginal discharge (thick, yellowish or greenish)\n",
      "\t+ Strong, unpleasant odor\n",
      "\t+ Pain or itching in the genital area\n",
      "\t+ Redness, swelling, or irritation of the vulva or vagina\n",
      "\t+ Painful urination\n",
      "* In men, symptoms may be mild or absent, but can include:\n",
      "\t+ Mild discomfort or itching in the urethra\n",
      "\t+ Frequent urination\n",
      "* Trichomoniasis can increase the risk of getting or transmitting other STIs, such as HIV.\n",
      "* If left untreated, trichomoniasis can lead to complications like pelvic inflammatory disease (PID) in women or prostatitis in men.\n",
      "\n",
      "It's essential to note that trichomoniasis can be asymptomatic, meaning it may not cause any noticeable symptoms. However, it's still important to get tested and treated if you're sexually active and have had unprotected sex with someone who may have been infected.\n",
      "\n",
      "If you're concerned about trichomoniasis or any other STI, it's always best to consult a healthcare provider for proper diagnosis and treatment.\n"
     ]
    }
   ],
   "source": [
    "messages = [\n",
    "    {\"role\": \"system\", \"content\": \"You are a helpful assistant helping individuals with their medical queries\"},\n",
    "    {\"role\": \"user\", \"content\": \" Could you give a brief summary of what Trichomoniasis is?\"},\n",
    "]\n",
    "print(inference(messages))"
   ]
  },
  {
   "cell_type": "code",
   "execution_count": null,
   "id": "35bb6c27-cb64-49ef-970f-1a01ce776e19",
   "metadata": {},
   "outputs": [],
   "source": []
  },
  {
   "cell_type": "markdown",
   "id": "a7ba503d-e51c-4c61-99d8-a8fbbe6f3a54",
   "metadata": {},
   "source": [
    "# Fine-tuned model"
   ]
  },
  {
   "cell_type": "code",
   "execution_count": 4,
   "id": "f32aa376-514c-40af-95f8-1a53151512a1",
   "metadata": {},
   "outputs": [
    {
     "name": "stderr",
     "output_type": "stream",
     "text": [
      "Loading checkpoint shards: 100%|█████████████████████████████████████████████████████████| 7/7 [00:10<00:00,  1.44s/it]\n"
     ]
    }
   ],
   "source": [
    "from huggingface_hub import notebook_login\n",
    "from transformers import AutoTokenizer, AutoModelForCausalLM\n",
    "import torch\n",
    "\n",
    "fine_tuned_model = \"MrFat/llama3_8b_medic-v0.3\"\n",
    "\n",
    "model_ft = AutoModelForCausalLM.from_pretrained(\n",
    "    fine_tuned_model,\n",
    "    quantization_config=bnb_config,\n",
    "    device_map=\"auto\",\n",
    ")"
   ]
  },
  {
   "cell_type": "code",
   "execution_count": 5,
   "id": "1014e604-9275-4021-94b6-04f439a6a95b",
   "metadata": {},
   "outputs": [
    {
     "name": "stderr",
     "output_type": "stream",
     "text": [
      "Special tokens have been added in the vocabulary, make sure the associated word embeddings are fine-tuned or trained.\n"
     ]
    }
   ],
   "source": [
    "tokenizer_ft = AutoTokenizer.from_pretrained(\n",
    "    fine_tuned_model,\n",
    "    trust_remote_code=True,\n",
    "    padding_side=\"left\",\n",
    "    add_eos_token=True,\n",
    "    add_bos_token=True,\n",
    ")\n",
    "tokenizer_ft.pad_token = tokenizer_ft.eos_token"
   ]
  },
  {
   "cell_type": "code",
   "execution_count": 6,
   "id": "6b561341-51de-4ad2-bcd9-6ec07f4c8003",
   "metadata": {},
   "outputs": [],
   "source": [
    "def inference(messages):\n",
    "    input_ids = tokenizer_ft.apply_chat_template(\n",
    "        messages,\n",
    "        add_generation_prompt=True,\n",
    "        return_tensors=\"pt\"\n",
    "    ).to(model_ft.device)\n",
    "\n",
    "    terminators = [\n",
    "        tokenizer_ft.eos_token_id,\n",
    "        tokenizer_ft.convert_tokens_to_ids(\"<|eot_id|>\")\n",
    "    ]\n",
    "    \n",
    "    torch.backends.cuda.enable_mem_efficient_sdp(False)\n",
    "    torch.backends.cuda.enable_flash_sdp(False)\n",
    "    \n",
    "    outputs = model_ft.generate(\n",
    "        input_ids,\n",
    "        max_new_tokens=512,\n",
    "        eos_token_id=terminators,\n",
    "        do_sample=True,\n",
    "        temperature=0.6,\n",
    "        top_p=0.9,\n",
    "    )\n",
    "    \n",
    "    response = outputs[0][input_ids.shape[-1]:]\n",
    "    \n",
    "    return tokenizer_ft.decode(response, skip_special_tokens=True)"
   ]
  },
  {
   "cell_type": "code",
   "execution_count": 14,
   "id": "86c5ac50-7254-435c-a39e-f4f056361fdf",
   "metadata": {},
   "outputs": [
    {
     "name": "stderr",
     "output_type": "stream",
     "text": [
      "The attention mask and the pad token id were not set. As a consequence, you may observe unexpected behavior. Please pass your input's `attention_mask` to obtain reliable results.\n",
      "Setting `pad_token_id` to `eos_token_id`:128009 for open-end generation.\n",
      "C:\\Users\\201902452\\AppData\\Local\\Programs\\Python\\Python311\\Lib\\site-packages\\transformers\\models\\llama\\modeling_llama.py:649: UserWarning: 1Torch was not compiled with flash attention. (Triggered internally at ..\\aten\\src\\ATen\\native\\transformers\\cuda\\sdp_utils.cpp:455.)\n",
      "  attn_output = torch.nn.functional.scaled_dot_product_attention(\n"
     ]
    },
    {
     "name": "stdout",
     "output_type": "stream",
     "text": [
      " Hi. Thanks for your query. I have gone through your question. It seems that you are suffering from musculoskeletal problem. You should consult a doctor and get done X-ray chest, lateral view and CT thorax. Based on the results of these investigations, you may need to undergo a surgical procedure. Hope I have answered your query. If you have doubt or have additional questions, I will be happy to answer. Please feel free to contact me. Wish you good health.   Take care.   Regards.   Chat Doctor.   .  .  .  .  .  .  .  .  .  .  .  .  .  .  .  .  .  .  .  .  .  .  .  .  .  .  .  .  .  .  .  .  .  .  .  .  .  .  .  .  .  .  .  .  .  .  .  .  .  .  .  .  .  .  .  .  .  .  .  .  .  .  .  .  .  .  .  .  .  .  .  .  .  .  .  .  .  .  .  .  .  .  .  .  .  .  .  .  .  .  .  .  .  .  .  .  .  .  .  .  .  .  .  .  .  .  .  .  .  .  .  .  .  .  .  .  .  .  .  .  .  .  .  .  .  .  .  .  .  .  .  .  .  .  .  .  .  .  .  .  .  .  .  .  .  .  .  .  .  .  .  .  .  .  .  .  .  .  .  .  .  .  .  .  .  .  .  .  .  .  .  .  .  .  .  .  .  .  .  .  .  .  .  .  .  .  .  .  .  .  .  .  .  .  .  .  .  .  .  .  .  .\n"
     ]
    }
   ],
   "source": [
    "messages = [\n",
    "    {\"role\": \"system\", \"content\": \"You are a helpful assistant helping individuals with their medical queries\"},\n",
    "    {\"role\": \"user\", \"content\": \"I have been having alot of catching ,pain and discomfort under my right rib. If I twist to either side especially my right it feels like my rib actually catches on something and at times I have to stop try to catch my breath and wait for it to subside. There are times if I am laughing too hard that it will do the same thing but normally its more so if I have twisted or moved a certain way\"},\n",
    "]\n",
    "print(inference(messages))"
   ]
  },
  {
   "cell_type": "code",
   "execution_count": 15,
   "id": "be67deea-531f-413e-a1b4-18e0655348d8",
   "metadata": {},
   "outputs": [
    {
     "name": "stderr",
     "output_type": "stream",
     "text": [
      "The attention mask and the pad token id were not set. As a consequence, you may observe unexpected behavior. Please pass your input's `attention_mask` to obtain reliable results.\n",
      "Setting `pad_token_id` to `eos_token_id`:128009 for open-end generation.\n"
     ]
    },
    {
     "name": "stdout",
     "output_type": "stream",
     "text": [
      " Hello, Thanks for using Chat Doctor. I have gone through your query and I can understand your concern. There is no relation between your symptoms and embryo replacement. You may be having a pelvic inflammatory disease, and that may be causing the symptoms. I suggest you to take a course of antibiotics, such as amoxicillin and clavulanate potassium, and metronidazole, for 7 days. Take a painkiller, such as ibuprofen, and a muscle relaxant, such as diclofenac sodium, as needed. Hope this helps.   Let me know if I can assist you further.   Take care.   Wish you a very good health.   Regards,   Chat Doctor.   .  .  .  .  .  .  .  .  .  .  .  .  .  .  .  .  .  .  .  .  .  .  .  .  .  .  .  .  .  .  .  .  .  .  .  .  .  .  .  .  .  .  .  .  .  .  .  .  .  .  .  .  .  .  .  .  .  .  .  .  .  .  .  .  .  .  .  .  .  .  .  .  .  .  .  .  .  .  .  .  .  .  .  .  .  .  .  .  .  .  .  .  .  .  .  .  .  .  .  .  .  .  .  .  .  .  .  .  .  .  .  .  .  .  .  .  .  .  .  .  .  .  .  .  .  .  .  .  .  .  .  .  .  .  .  .  .  .  .  .  .  .  .  .  .  .  .  .  .  .  .  .  .  .  .  .  .  .  .  .  .  .  .  .  .  .  .  .  .  .  .  .  .  .  .  .  .  .  .  .  .  .  .  .\n"
     ]
    }
   ],
   "source": [
    "messages = [\n",
    "    {\"role\": \"system\", \"content\": \"You are a helpful assistant helping individuals with their medical queries\"},\n",
    "    {\"role\": \"user\", \"content\": \" Hi, ive just had an embryo replacement 5 days ago. SInce then i have had pain down my right leg near my groin , a kind of cold tinkly discomfort. Today i started getting reasonable stomach pains as well Is this suggestive of anything? does it mean the embryo hasn t taken? I have my blood test to confirm pregnany on day ten to come with thanks\"},\n",
    "]\n",
    "print(inference(messages))"
   ]
  },
  {
   "cell_type": "code",
   "execution_count": 16,
   "id": "477542a2-41dd-41a6-9099-94907ad4087a",
   "metadata": {},
   "outputs": [
    {
     "name": "stderr",
     "output_type": "stream",
     "text": [
      "The attention mask and the pad token id were not set. As a consequence, you may observe unexpected behavior. Please pass your input's `attention_mask` to obtain reliable results.\n",
      "Setting `pad_token_id` to `eos_token_id`:128009 for open-end generation.\n"
     ]
    },
    {
     "name": "stdout",
     "output_type": "stream",
     "text": [
      " Hi. Thanks for using Chat Doctor. I have gone through your query and can understand your concern. Itching between legs and testicles is a common problem, especially in males. This is due to fungal infection like candidiasis or dermatitis. Fungal infection can be caused by the skin contact with fungus. In this condition, skin becomes black and dry, and itching is severe. Itching can be controlled by using antifungal cream containing clotrimazole or miconazole. You can use clotrimazole cream 1% BID for 2 weeks. If you are allergic to clotrimazole, then you can use miconazole cream 2% BID for 2 weeks. You can also use oral antifungal like fluconazole 150 mg OD for 2 weeks. Hope this helps. Take care.   Wish you good health.   Take care.   Regards,   Chat Doctor.   .  .  .  .  .  .  .  .  .  .  .  .  .  .  .  .  .  .  .  .  .  .  .  .  .  .  .  .  .  .  .  .  .  .  .  .  .  .  .  .  .  .  .  .  .  .  .  .  .  .  .  .  .  .  .  .  .  .  .  .  .  .  .  .  .  .  .  .  .  .  .  .  .  .  .  .  .  .  .  .  .  .  .  .  .  .  .  .  .  .  .  .  .  .  .  .  .  .  .  .  .  .  .  .  .  .  .  .  .  .  .  .  .  .  .  .  .  .  .  .  .  .  .  .  .  .  .  .  .  .  .  .  .  .  .  .  .  .  .  .  .  .  .  .  .  .  .  .  .  .  .  .  .  .  .  .  .  .  .  .  .  .  \n"
     ]
    }
   ],
   "source": [
    "messages = [\n",
    "    {\"role\": \"system\", \"content\": \"You are a helpful assistant helping individuals with their medical queries\"},\n",
    "    {\"role\": \"user\", \"content\": \" hi,i have itching between my legs and testicles,im facing this from past 2 years.im using antifungal powder for timebeing but it is not completely went off.now in that affected area some kind sticky liquid coming out and im unable to work properly.skin became black and looking like dried tree outer layer\"},\n",
    "]\n",
    "print(inference(messages))"
   ]
  },
  {
   "cell_type": "code",
   "execution_count": 17,
   "id": "139e6159-c531-4e7a-a48a-399da1356f98",
   "metadata": {},
   "outputs": [
    {
     "name": "stderr",
     "output_type": "stream",
     "text": [
      "The attention mask and the pad token id were not set. As a consequence, you may observe unexpected behavior. Please pass your input's `attention_mask` to obtain reliable results.\n",
      "Setting `pad_token_id` to `eos_token_id`:128009 for open-end generation.\n"
     ]
    },
    {
     "name": "stdout",
     "output_type": "stream",
     "text": [
      "Trichomoniasis is a common parasitic infection caused by Trichomonas vaginalis, a protozoan parasite. It is spread through sexual contact and can infect both men and women. The symptoms of trichomoniasis vary depending on the individual and the stage of infection. In women, the infection can cause: 1. Thick, yellowish-green vaginal discharge that may be frothy and have a strong odor. 2. Itching of the genital area. 3. Pain during urination. 4. Painful sexual intercourse. In men, trichomoniasis usually causes no symptoms. However, in rare cases, it can cause: 1. Thick, yellowish-green urethral discharge. 2. Pain during urination. Trichomoniasis can be treated with antibiotics. In women, the infection is usually treated with metronidazole, and in men, it is usually treated with tinidazole. In pregnant women, the infection is usually treated with metronidazole. Trichomoniasis is a common infection and is often asymptomatic. However, if left untreated, it can lead to complications such as pelvic inflammatory disease and infertility. So, it is essential to consult a doctor if you have symptoms of trichomoniasis. Hope this helps.   Let me know if I can assist you further.   Take care.   Chat Doctor.   .  .  .  .  .  .  .  .  .  .  .  .  .  .  .  .  .  .  .  .  .  .  .  .  .  .  .  .  .  .  .  .  .  .  .  .  .  .  .  .  .  .  .  .  .  .  .  .  .  .  .  .  .  .  .  .  .  .  .  .  .  .  .  .  .  .  .  .  .  .  .  .  .  .  .  .  .  .  .  .  .  .  .  .  .  .  .  .  .  .  .  .  .  .  .  .  .  .  .  .  .  .  .  .  .  .  .  .  .  .  .  .\n"
     ]
    }
   ],
   "source": [
    "messages = [\n",
    "    {\"role\": \"system\", \"content\": \"You are a helpful assistant helping individuals with their medical queries\"},\n",
    "    {\"role\": \"user\", \"content\": \" Could you give a brief summary of what Trichomoniasis is?\"},\n",
    "]\n",
    "print(inference(messages))"
   ]
  },
  {
   "cell_type": "code",
   "execution_count": 18,
   "id": "dd4988a6-9c6c-4af5-bc33-91ad99754666",
   "metadata": {},
   "outputs": [
    {
     "name": "stderr",
     "output_type": "stream",
     "text": [
      "The attention mask and the pad token id were not set. As a consequence, you may observe unexpected behavior. Please pass your input's `attention_mask` to obtain reliable results.\n",
      "Setting `pad_token_id` to `eos_token_id`:128009 for open-end generation.\n"
     ]
    },
    {
     "name": "stdout",
     "output_type": "stream",
     "text": [
      "Hi, Thanks for choosing Chat Doctor. It is safe to travel pregnant, but it is always advisable to avoid traveling during the first trimester. If you are already pregnant, then you should avoid traveling to areas with high altitude, high temperature, and high humidity. These areas can cause dehydration, which may lead to pregnancy complications. If you have to travel, then you should take necessary precautions such as taking multivitamin, wearing comfortable clothes, and taking regular breaks. Hope this helps. Take care.   Chat Doctor. . .  .  .  .  .  .  .  .  .  .  .  .  .  .  .  .  .  .  .  .  .  .  .  .  .  .  .  .  .  .  .  .  .  .  .  .  .  .  .  .  .  .  .  .  .  .  .  .  .  .  .  .  .  .  .  .  .  .  .  .  .  .  .  .  .  .  .  .  .  .  .  .  .  .  .  .  .  .  .  .  .  .  .  .  .  .  .  .  .  .  .  .  .  .  .  .  .  .  .  .  .  .  .  .  .  .  .  .  .  .  .  .  .  .  .  .  .  .  .  .  .  .  .  .  .  .  .  .  .  .  .  .  .  .  .  .  .  .  .  .  .  .  .  .  .  .  .  .  .  .  .  .  .  .  .  .  .  .  .  .  .  .  .  .  .  .  .  .  .  .  .  .  .  .  .  .  .  .  .  .  .  .  .  .  .  .  .  .  .  .  .  .  .  .  .  .  .  .  .  .  .  .  \n"
     ]
    }
   ],
   "source": [
    "messages = [\n",
    "    {\"role\": \"system\", \"content\": \"Asnwer truthfully\"},\n",
    "    {\"role\": \"user\", \"content\": \" Is it safe to travel pregnant?\"},\n",
    "]\n",
    "print(inference(messages))"
   ]
  },
  {
   "cell_type": "code",
   "execution_count": 19,
   "id": "6a98da4b-edca-4394-a1c3-cfeab40ec3a2",
   "metadata": {},
   "outputs": [
    {
     "name": "stderr",
     "output_type": "stream",
     "text": [
      "The attention mask and the pad token id were not set. As a consequence, you may observe unexpected behavior. Please pass your input's `attention_mask` to obtain reliable results.\n",
      "Setting `pad_token_id` to `eos_token_id`:128009 for open-end generation.\n"
     ]
    },
    {
     "name": "stdout",
     "output_type": "stream",
     "text": [
      " Hi, I can understand your concern. Cholesterol is a type of fat that is present in the blood. It is usually measured in milligrams per deciliter (mg/dL). High cholesterol can increase the risk of heart disease. The best way to reduce cholesterol is to make lifestyle changes such as: - Diet: Eat a balanced diet that is low in saturated fats, cholesterol, and sodium. Include foods rich in fiber, vitamins, and minerals. - Exercise: Regular exercise can help to lower cholesterol. - Weight Loss: Losing weight if you are overweight or obese can help to lower cholesterol. - Quit Smoking: Smoking can increase the risk of heart disease. Quitting smoking can help to lower cholesterol. - Medications: Certain medications such as statins can help to lower cholesterol. Please consult your doctor for advice on how to lower your cholesterol. Hope this helps. Wish you a good health.   Take Care. Chat Doctor. .  .  .  .  .  .  .  .  .  .  .  .  .  .  .  .  .  .  .  .  .  .  .  .  .  .  .  .  .  .  .  .  .  .  .  .  .  .  .  .  .  .  .  .  .  .  .  .  .  .  .  .  .  .  .  .  .  .  .  .  .  .  .  .  .  .  .  .  .  .  .  .  .  .  .  .  .  .  .  .  .  .  .  .  .  .  .  .  .  .  .  .  .  .  .  .  .  .  .  .  .  .  .  .  .  .  .  .  .  .  .  .  .  .  .  .  .  .  .  .  .  .  .  .  .  .  .  .  .  .  .  .  .  .  .  .  .  .  .  .  .  .  .  .  .  .  .  .  .  .  .  .  .  .  .  .  .  .  .  .  .  \n"
     ]
    }
   ],
   "source": [
    "messages = [\n",
    "    {\"role\": \"system\", \"content\": \"Asnwer truthfully\"},\n",
    "    {\"role\": \"user\", \"content\": \" Hi, I'm worried about cholesterol. What can i do to reduce it?\"},\n",
    "]\n",
    "print(inference(messages))"
   ]
  },
  {
   "cell_type": "code",
   "execution_count": 11,
   "id": "c5bc0097-c639-4215-9e83-2e01ea273382",
   "metadata": {},
   "outputs": [
    {
     "name": "stderr",
     "output_type": "stream",
     "text": [
      "The attention mask and the pad token id were not set. As a consequence, you may observe unexpected behavior. Please pass your input's `attention_mask` to obtain reliable results.\n",
      "Setting `pad_token_id` to `eos_token_id`:128009 for open-end generation.\n"
     ]
    },
    {
     "name": "stdout",
     "output_type": "stream",
     "text": [
      "Hello there! I can help you with that. Quadratic equations can be solved by using the quadratic formula. This formula is given as follows:\n",
      "\n",
      "x = (-b ± √(b2 - 4ac)) / 2a\n",
      "\n",
      "Here, a is the coefficient of x2, b is the coefficient of x, and c is the constant term. This formula is used to find the roots of the quadratic equation. If you have any doubt, feel free to ask.   Thanks for using Chat Doctor. Wish you a very good health. Take Care.   Chat Doctor. .  .  .  .  .  .  .  .  .  .  .  .  .  .  .  .  .  .  .  .  .  .  .  .  .  .  .  .  .  .  .  .  .  .  .  .  .  .  .  .  .  .  .  .  .  .  .  .  .  .  .  .  .  .  .  .  .  .  .  .  .  .  .  .  .  .  .  .  .  .  .  .  .  .  .  .  .  .  .  .  .  .  .  .  .  .  .  .  .  .  .  .  .  .  .  .  .  .  .  .  .  .  .  .  .  .  .  .  .  .  .  .  .  .  .  .  .  .  .  .  .  .  .  .  .  .  .  .  .  .  .  .  .  .  .  .  .  .  .  .  .  .  .  .  .  .  .  .  .  .  .  .  .  .  .  .  .  .  .  .  .  .  .  .  .  .  .  .  .  .  .  .  .  .  .  .  .  .  .  .  .  .  .  .  .  .  .  .  .  .  .  .  .  .  .  .  .  \n"
     ]
    }
   ],
   "source": [
    "messages = [\n",
    "    {\"role\": \"system\", \"content\": \"Asnwer truthfully\"},\n",
    "    {\"role\": \"user\", \"content\": \" How is a quadratic equation solved?\"},\n",
    "]\n",
    "print(inference(messages))"
   ]
  },
  {
   "cell_type": "code",
   "execution_count": null,
   "id": "203ca1f2-8085-4be5-850a-5f7d7b2e265f",
   "metadata": {},
   "outputs": [],
   "source": []
  }
 ],
 "metadata": {
  "kernelspec": {
   "display_name": "Python 3 (ipykernel)",
   "language": "python",
   "name": "python3"
  },
  "language_info": {
   "codemirror_mode": {
    "name": "ipython",
    "version": 3
   },
   "file_extension": ".py",
   "mimetype": "text/x-python",
   "name": "python",
   "nbconvert_exporter": "python",
   "pygments_lexer": "ipython3",
   "version": "3.11.9"
  }
 },
 "nbformat": 4,
 "nbformat_minor": 5
}
